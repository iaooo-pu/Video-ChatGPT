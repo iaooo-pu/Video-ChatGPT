{
 "cells": [
  {
   "cell_type": "code",
   "execution_count": 17,
   "id": "6ab5670b-885a-4a2c-afe4-55b5754d8df5",
   "metadata": {},
   "outputs": [],
   "source": [
    "import json\n",
    "from pytube import YouTube\n",
    "import os\n",
    "\n",
    "def download(link, prefix):\n",
    "    youtubeObject = YouTube(link)\n",
    "    try:\n",
    "        youtubeObject = youtubeObject.streams.get_highest_resolution()\n",
    "        youtubeObject.download(filename_prefix=prefix)\n",
    "        print(\"Download is completed successfully\")\n",
    "    except Exception as e:\n",
    "        print(e)\n",
    "\n",
    "video_chat = json.loads(open(\"/home/prashant/Downloads/VideoInstruct_Dataset.json\").read())\n",
    "len(video_chat)\n",
    "\n",
    "video_ids = set([data['video_id'] for data in video_chat])"
   ]
  },
  {
   "cell_type": "code",
   "execution_count": 18,
   "id": "d47bb1ed-9347-4253-b1a7-9a25faf3e903",
   "metadata": {},
   "outputs": [],
   "source": [
    "already_downloaded = set()\n",
    "files = filter(lambda x: x.endswith(\".mp4\"), os.listdir(\".\"))\n",
    "for fl in files:\n",
    "    already_downloaded.add(\"v_\" + fl.split(\"###\")[0])"
   ]
  },
  {
   "cell_type": "code",
   "execution_count": 19,
   "id": "ea8fb3e5-49ba-468c-9fa3-3f72974f6d41",
   "metadata": {},
   "outputs": [],
   "source": [
    "to_download = video_ids - already_downloaded"
   ]
  },
  {
   "cell_type": "code",
   "execution_count": null,
   "id": "d791a509-ccb9-478e-867c-efc8ba54c414",
   "metadata": {},
   "outputs": [],
   "source": [
    "# curr_downloaded = 0\n",
    "# for video_id in to_download:\n",
    "#     id_ = video_id[2:]\n",
    "#     url = f\"https://www.youtube.com/watch?v={id_}\"\n",
    "#     download(url, prefix=f\"{id_}###\")\n",
    "#     curr_downloaded += 1\n",
    "#     progress = 100*curr_downloaded / len(to_download)\n",
    "#     print(f\"total {curr_downloaded} out of {len(to_download)}. Progress: {progress:.2f}\")\n"
   ]
  },
  {
   "cell_type": "code",
   "execution_count": 24,
   "id": "8dad6a3c-1772-44e7-b712-f06e6aaef15f",
   "metadata": {},
   "outputs": [],
   "source": [
    "def download_video(video_id):\n",
    "    id_ = video_id[2:]\n",
    "    url = f\"https://www.youtube.com/watch?v={id_}\"\n",
    "    download(url, prefix=f\"{id_}###\")"
   ]
  },
  {
   "cell_type": "code",
   "execution_count": 26,
   "id": "8b76b7a3-3222-4dc5-973b-7e16fa22fc07",
   "metadata": {},
   "outputs": [],
   "source": [
    "from multiprocessing import Pool, cpu_count\n",
    "from functools import partial\n",
    "import tqdm"
   ]
  },
  {
   "cell_type": "code",
   "execution_count": 25,
   "id": "fbe2de75-2350-4a21-8c74-1285ef1ba09f",
   "metadata": {},
   "outputs": [
    {
     "name": "stdout",
     "output_type": "stream",
     "text": [
      "There are 16 CPUs on this machine \n"
     ]
    }
   ],
   "source": [
    "print(\"There are {} CPUs on this machine \".format(cpu_count()))\n",
    "pool = Pool(cpu_count())\n",
    "download_func = partial(download_video)"
   ]
  },
  {
   "cell_type": "code",
   "execution_count": null,
   "id": "9666267b-694c-4aaf-9133-ecad70cc07c4",
   "metadata": {},
   "outputs": [],
   "source": [
    "for _ in tqdm.tqdm(pool.imap_unordered(download_func, to_download), total=len(to_download)):\n",
    "    pass"
   ]
  },
  {
   "cell_type": "code",
   "execution_count": null,
   "id": "b036f56c-a436-4f67-93f1-6dedd24fb844",
   "metadata": {},
   "outputs": [],
   "source": [
    "# results = pool.map(download_func, urls)\n",
    "pool.close()\n",
    "pool.join()"
   ]
  }
 ],
 "metadata": {
  "kernelspec": {
   "display_name": "Python 3 (ipykernel)",
   "language": "python",
   "name": "python3"
  },
  "language_info": {
   "codemirror_mode": {
    "name": "ipython",
    "version": 3
   },
   "file_extension": ".py",
   "mimetype": "text/x-python",
   "name": "python",
   "nbconvert_exporter": "python",
   "pygments_lexer": "ipython3",
   "version": "3.10.0"
  }
 },
 "nbformat": 4,
 "nbformat_minor": 5
}
